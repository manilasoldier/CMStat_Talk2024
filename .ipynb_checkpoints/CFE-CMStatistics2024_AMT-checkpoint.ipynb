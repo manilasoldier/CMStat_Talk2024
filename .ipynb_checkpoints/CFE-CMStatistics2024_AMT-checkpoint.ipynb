{
  "cells": [
    {
      "cell_type": "raw",
      "metadata": {},
      "source": [
        "---\n",
        "title: Topological data analysis for statistical analysis of structure and dynamics in imaging\n",
        "author: Andrew M. Thomas\n",
        "format: revealjs\n",
        "---"
      ],
      "id": "a46290e9"
    },
    {
      "cell_type": "markdown",
      "metadata": {},
      "source": [
        "## Quarto\n",
        "\n",
        "Quarto enables you to weave together content and executable code into a finished presentation. To learn more about Quarto presentations see <https://quarto.org/docs/presentations/>.\n",
        "\n",
        "## Bullets\n",
        "\n",
        "When you click the **Render** button a document will be generated that includes:\n",
        "\n",
        "-   Content authored with markdown\n",
        "-   Output from executable code\n",
        "\n",
        "## Code\n",
        "\n",
        "When you click the **Render** button a presentation will be generated that includes both content and the output of embedded code. You can embed code like this:\n"
      ],
      "id": "66be3f6d"
    },
    {
      "cell_type": "code",
      "metadata": {},
      "source": [
        "1 + 1"
      ],
      "id": "87296571",
      "execution_count": null,
      "outputs": []
    }
  ],
  "metadata": {
    "kernelspec": {
      "name": "python3",
      "language": "python",
      "display_name": "Python 3 (ipykernel)"
    }
  },
  "nbformat": 4,
  "nbformat_minor": 5
}